{
 "cells": [
  {
   "cell_type": "code",
   "execution_count": 1,
   "id": "4887bbef-0e10-4a7f-937f-5e90df11a31d",
   "metadata": {},
   "outputs": [],
   "source": [
    "import re"
   ]
  },
  {
   "cell_type": "code",
   "execution_count": 2,
   "id": "e9277dcb-630a-41f8-bed6-08331d09d2b3",
   "metadata": {},
   "outputs": [
    {
     "name": "stdout",
     "output_type": "stream",
     "text": [
      "C:\\desktop\n",
      "otes\n"
     ]
    }
   ],
   "source": [
    "# print text without using raw string indicator\n",
    "my_folder = \"C:\\desktop\\notes\"\n",
    "print(my_folder)"
   ]
  },
  {
   "cell_type": "code",
   "execution_count": 3,
   "id": "33d7deda-5c78-4eff-9fd5-19f202644e8b",
   "metadata": {},
   "outputs": [
    {
     "name": "stdout",
     "output_type": "stream",
     "text": [
      "C:\\desktop\\notes\n"
     ]
    }
   ],
   "source": [
    "my_folder = r\"C:\\desktop\\notes\"\n",
    "print(my_folder)"
   ]
  },
  {
   "cell_type": "code",
   "execution_count": 4,
   "id": "71b8140a-4d32-4aba-b7aa-870925937229",
   "metadata": {},
   "outputs": [
    {
     "name": "stdout",
     "output_type": "stream",
     "text": [
      "<re.Match object; span=(22, 29), match='pattern'>\n"
     ]
    }
   ],
   "source": [
    "# Use of re.search\n",
    "result_search = re.search(\"pattern\", r\"string containing the pattern\")\n",
    "print(result_search)"
   ]
  },
  {
   "cell_type": "code",
   "execution_count": 5,
   "id": "f02b22b6-2938-4032-b4be-7a279423f022",
   "metadata": {},
   "outputs": [
    {
     "name": "stdout",
     "output_type": "stream",
     "text": [
      "sara was able to help me find the items i needed quickly\n",
      "sarah was able to help me find the items i needed quickly\n"
     ]
    }
   ],
   "source": [
    "# Use of re.sub\n",
    "string = r\"sara was able to help me find the items i needed quickly\"\n",
    "new_string = re.sub(r\"sara\", r\"sarah\", string)\n",
    "print(string)\n",
    "print(new_string)"
   ]
  },
  {
   "cell_type": "code",
   "execution_count": 6,
   "id": "9af08ef4-31db-47c4-8470-3cfa96ceff9a",
   "metadata": {},
   "outputs": [
    {
     "name": "stdout",
     "output_type": "stream",
     "text": [
      "['sarah was able to help me find the items i needed quickly', 'great service from sara she found me what i wanted']\n"
     ]
    }
   ],
   "source": [
    "# Regex Syntax\n",
    "\n",
    "sarahs_reviews = []\n",
    "pattern_to_find_sarahs = r\"sarah?\" # Has sarah in string with or without h\n",
    "customer_reviews = ['sam was a great help to me in the store', \n",
    "                    'the cashier was very rude to me, I think her name was eleanor', \n",
    "                    'amazing work from sadeen!', \n",
    "                    'sarah was able to help me find the items i needed quickly', \n",
    "                    'lucy is such a great addition to the team', \n",
    "                    'great service from sara she found me what i wanted'\n",
    "                   ]\n",
    "\n",
    "for string in customer_reviews:\n",
    "    if (re.search(pattern_to_find_sarahs, string)):\n",
    "        sarahs_reviews.append(string)\n",
    "\n",
    "print(sarahs_reviews)"
   ]
  },
  {
   "cell_type": "code",
   "execution_count": 7,
   "id": "94d2a27b-a35c-42e4-8f18-8f7d251833c1",
   "metadata": {},
   "outputs": [
    {
     "name": "stdout",
     "output_type": "stream",
     "text": [
      "['amazing work from sadeen!']\n"
     ]
    }
   ],
   "source": [
    "a_reviews = []\n",
    "pattern_to_find_a = r\"^a\" # Starts with an \"a\"\n",
    "\n",
    "for string in customer_reviews:\n",
    "    if (re.search(pattern_to_find_a, string)):\n",
    "        a_reviews.append(string)\n",
    "\n",
    "print(a_reviews)"
   ]
  },
  {
   "cell_type": "code",
   "execution_count": 8,
   "id": "5d3e9130-86b8-4e12-b27d-9a7edd60988c",
   "metadata": {},
   "outputs": [
    {
     "name": "stdout",
     "output_type": "stream",
     "text": [
      "['sarah was able to help me find the items i needed quickly']\n"
     ]
    }
   ],
   "source": [
    "y_reviews = []\n",
    "pattern_to_find_y = r\"y$\" # Ends with a y \n",
    "\n",
    "for string in customer_reviews:\n",
    "    if (re.search(pattern_to_find_y, string)):\n",
    "        y_reviews.append(string)\n",
    "\n",
    "print(y_reviews)"
   ]
  },
  {
   "cell_type": "code",
   "execution_count": 9,
   "id": "91fe6581-ce25-47b0-90a9-0ca9ce8ee581",
   "metadata": {},
   "outputs": [
    {
     "name": "stdout",
     "output_type": "stream",
     "text": [
      "['sarah was able to help me find the items i needed quickly', 'great service from sara she found me what i wanted']\n"
     ]
    }
   ],
   "source": [
    "needwant_review = []\n",
    "pattern_to_find_nw = r\"(need|want)ed\"\n",
    "for string in customer_reviews:\n",
    "    if (re.search(pattern_to_find_nw, string)):\n",
    "        needwant_review.append(string)\n",
    "print(needwant_review)"
   ]
  },
  {
   "cell_type": "code",
   "execution_count": 10,
   "id": "6dfa07b4-ac37-4b0a-9075-27c6af83ae79",
   "metadata": {},
   "outputs": [
    {
     "name": "stdout",
     "output_type": "stream",
     "text": [
      "['sam was a great help to me in the store', 'the cashier was very rude to me, I think her name was eleanor', 'amazing work from sadeen!', 'sarah was able to help me find the items i needed quickly', 'lucy is such a great addition to the team', 'great service from sara she found me what i wanted']\n"
     ]
    }
   ],
   "source": [
    "no_punct_reviews = []\n",
    "pattern_to_find_np = r\"[^\\W\\S]\" # Not a word, not a white space\n",
    "\n",
    "for string in customer_reviews:\n",
    "    no_punct_string = re.sub(pattern_to_find_np, \"\", string)\n",
    "    no_punct_reviews.append(no_punct_string)\n",
    "print(no_punct_reviews)"
   ]
  }
 ],
 "metadata": {
  "kernelspec": {
   "display_name": "nlp_course_env",
   "language": "python",
   "name": "nlp_course_env"
  },
  "language_info": {
   "codemirror_mode": {
    "name": "ipython",
    "version": 3
   },
   "file_extension": ".py",
   "mimetype": "text/x-python",
   "name": "python",
   "nbconvert_exporter": "python",
   "pygments_lexer": "ipython3",
   "version": "3.11.13"
  }
 },
 "nbformat": 4,
 "nbformat_minor": 5
}
