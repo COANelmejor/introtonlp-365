{
 "cells": [
  {
   "cell_type": "code",
   "execution_count": 3,
   "id": "637e091d",
   "metadata": {},
   "outputs": [
    {
     "name": "stderr",
     "output_type": "stream",
     "text": [
      "[nltk_data] Downloading package wordnet to\n",
      "[nltk_data]     /Users/coanelmejor/nltk_data...\n",
      "[nltk_data]   Package wordnet is already up-to-date!\n"
     ]
    }
   ],
   "source": [
    "import nltk\n",
    "nltk.download('wordnet')\n",
    "from nltk.stem import WordNetLemmatizer"
   ]
  },
  {
   "cell_type": "code",
   "execution_count": 4,
   "id": "c35ecd00",
   "metadata": {},
   "outputs": [],
   "source": [
    "lemmatizer = WordNetLemmatizer()"
   ]
  },
  {
   "cell_type": "code",
   "execution_count": 5,
   "id": "b7afcbba",
   "metadata": {},
   "outputs": [],
   "source": [
    "connect_tokens = ['connecting', 'connected', 'connectivity', 'connect', 'connects']\n",
    "\n",
    "learn_tokens = ['learned', 'learning', 'learn', 'learns', 'learner', 'learners']\n",
    "\n",
    "likes_tokens = ['likes', 'better', 'worse']"
   ]
  },
  {
   "cell_type": "code",
   "execution_count": 6,
   "id": "987240ee",
   "metadata": {},
   "outputs": [
    {
     "name": "stdout",
     "output_type": "stream",
     "text": [
      "connecting : connecting\n",
      "connected : connected\n",
      "connectivity : connectivity\n",
      "connect : connect\n",
      "connects : connects\n"
     ]
    }
   ],
   "source": [
    "for t in connect_tokens:\n",
    "    print(f'{t} : {lemmatizer.lemmatize(t)}')"
   ]
  },
  {
   "cell_type": "code",
   "execution_count": 7,
   "id": "7f63e1a0",
   "metadata": {},
   "outputs": [
    {
     "name": "stdout",
     "output_type": "stream",
     "text": [
      "learned : learned\n",
      "learning : learning\n",
      "learn : learn\n",
      "learns : learns\n",
      "learner : learner\n",
      "learners : learner\n"
     ]
    }
   ],
   "source": [
    "for t in learn_tokens:\n",
    "    print(f'{t} : {lemmatizer.lemmatize(t)}')"
   ]
  },
  {
   "cell_type": "code",
   "execution_count": 8,
   "id": "395376ae",
   "metadata": {},
   "outputs": [
    {
     "name": "stdout",
     "output_type": "stream",
     "text": [
      "likes : like\n",
      "better : better\n",
      "worse : worse\n"
     ]
    }
   ],
   "source": [
    "for t in likes_tokens:\n",
    "    print(f'{t} : {lemmatizer.lemmatize(t)}')"
   ]
  },
  {
   "cell_type": "code",
   "execution_count": null,
   "id": "000c9dae",
   "metadata": {},
   "outputs": [],
   "source": []
  }
 ],
 "metadata": {
  "kernelspec": {
   "display_name": "nlp_course_env",
   "language": "python",
   "name": "python3"
  },
  "language_info": {
   "codemirror_mode": {
    "name": "ipython",
    "version": 3
   },
   "file_extension": ".py",
   "mimetype": "text/x-python",
   "name": "python",
   "nbconvert_exporter": "python",
   "pygments_lexer": "ipython3",
   "version": "3.11.13"
  }
 },
 "nbformat": 4,
 "nbformat_minor": 5
}
